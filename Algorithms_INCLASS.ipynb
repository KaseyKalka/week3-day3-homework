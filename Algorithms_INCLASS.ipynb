{
 "cells": [
  {
   "cell_type": "markdown",
   "metadata": {},
   "source": [
    "# Algorithms, Binary Search & Linked Lists"
   ]
  },
  {
   "cell_type": "markdown",
   "metadata": {},
   "source": [
    "## Tasks Today:\n",
    " \n",
    "1) <b>In-Place Algorithms</b> <br>\n",
    " &nbsp;&nbsp;&nbsp;&nbsp; a) Syntax <br>\n",
    " &nbsp;&nbsp;&nbsp;&nbsp; a) Out of Place Algorithm <br>\n",
    " &nbsp;&nbsp;&nbsp;&nbsp; b) In-Class Exercise #1 <br>\n",
    "2) <b>Two Pointers</b> <br>\n",
    "3) <b>Linked Lists</b> <br>\n",
    "4) <b>Merge Sort</b> <br>\n",
    " &nbsp;&nbsp;&nbsp;&nbsp; a) Video on Algorithms <br>\n",
    " &nbsp;&nbsp;&nbsp;&nbsp; b) How it Works <br>\n",
    "5) <b>Exercises</b> <br>\n",
    " &nbsp;&nbsp;&nbsp;&nbsp; a) Exercise #1 - Reverse a List in Place Using an In-Place Algorithm <br>\n",
    " &nbsp;&nbsp;&nbsp;&nbsp; b) Exercise #2 - Find Distinct Words <br>\n",
    " &nbsp;&nbsp;&nbsp;&nbsp; c) Exercise #3 - Write a program to implement a Linear Search Algorithm. <br>"
   ]
  },
  {
   "cell_type": "markdown",
   "metadata": {},
   "source": [
    "## In-Place Algorithms"
   ]
  },
  {
   "cell_type": "markdown",
   "metadata": {},
   "source": [
    "#### Syntax"
   ]
  },
  {
   "cell_type": "code",
   "execution_count": 5,
   "metadata": {},
   "outputs": [
    {
     "name": "stdout",
     "output_type": "stream",
     "text": [
      "2061573073920\n",
      "before swap [12, 3, 56]\n",
      "2061573073920\n",
      "after swap [3, 56, 12]\n"
     ]
    }
   ],
   "source": [
    "def swap(alist, x, y, z): \n",
    "    alist[x], alist[y], alist[z] = alist[y], alist[z], alist[x]\n",
    "    return alist\n",
    "\n",
    "this_list = [12, 3, 56]\n",
    "print(id(this_list))\n",
    "print(f'before swap {this_list}')\n",
    "\n",
    "swap(this_list, 0, 1, 2)\n",
    "print(id(this_list))\n",
    "print(f'after swap {this_list}')"
   ]
  },
  {
   "cell_type": "markdown",
   "metadata": {},
   "source": [
    "#### Out of Place Algorithm"
   ]
  },
  {
   "cell_type": "code",
   "execution_count": 7,
   "metadata": {},
   "outputs": [
    {
     "name": "stdout",
     "output_type": "stream",
     "text": [
      "before the swap ['a', 'b', 'c', 'd']\n",
      "2061579101120\n",
      "After the swap ['d', 'c', 'b', 'a']\n",
      "2061579035072\n"
     ]
    }
   ],
   "source": [
    "my_list = ['a', 'b', 'c', 'd']\n",
    "\n",
    "print(f'before the swap {my_list}')\n",
    "print(id(my_list))\n",
    "\n",
    "def my_swap(alist):\n",
    "    output = []\n",
    "    for letter in alist[::-1]:\n",
    "        output.append(letter)\n",
    "    \n",
    "    return output\n",
    "\n",
    "my_list = my_swap(my_list)\n",
    "print(f'After the swap {my_list}')\n",
    "print(id(my_list))"
   ]
  },
  {
   "cell_type": "markdown",
   "metadata": {},
   "source": [
    "#### In-Class Exercise #1 <br>\n",
    "<p>Write a function that takes in four arguments (list, index1, index2, index3), and swaps those three positions in the list passed in.</p>"
   ]
  },
  {
   "cell_type": "code",
   "execution_count": null,
   "metadata": {},
   "outputs": [],
   "source": [
    "l_1 = [10, 4, 3, 8, 4, 2, 6]\n",
    "\n",
    "# did this in the first notebook"
   ]
  },
  {
   "cell_type": "markdown",
   "metadata": {},
   "source": [
    "## Two Pointers"
   ]
  },
  {
   "cell_type": "markdown",
   "metadata": {},
   "source": [
    "#### Syntax"
   ]
  },
  {
   "cell_type": "code",
   "execution_count": 8,
   "metadata": {},
   "outputs": [
    {
     "name": "stdout",
     "output_type": "stream",
     "text": [
      "[11, 2, 3, 4, 5, 6, 7, 8, 9, 10, 1]\n"
     ]
    }
   ],
   "source": [
    "test_list = [1,2,3,4,5,6,7,8,9,10,11]\n",
    "\n",
    "def two_pointer(alist):\n",
    "    left = 0\n",
    "    right = len(alist) - 1\n",
    "    while left <= right:\n",
    "        alist[left], alist[right] = alist[right], alist[left]\n",
    "        left += 1\n",
    "        right -= 1\n",
    "        return alist\n",
    "    \n",
    "print(two_pointer(test_list))"
   ]
  },
  {
   "cell_type": "markdown",
   "metadata": {},
   "source": [
    "#### Video of Algorithms <br>\n",
    "<p>Watch the video about algorithms.</p>\n",
    "\n",
    "https://www.youtube.com/watch?v=Q9HjeFD62Uk\n",
    "\n",
    "https://www.youtube.com/watch?v=kPRA0W1kECg\n",
    "\n",
    "https://www.youtube.com/watch?v=ZZuD6iUe3Pc"
   ]
  },
  {
   "cell_type": "markdown",
   "metadata": {},
   "source": [
    "# Sorting Algorithms"
   ]
  },
  {
   "cell_type": "markdown",
   "metadata": {},
   "source": [
    "#### Bubble Sort\n",
    "\n",
    "Worst Case: O(n^2) Time - O(1) Space"
   ]
  },
  {
   "cell_type": "code",
   "execution_count": 11,
   "metadata": {},
   "outputs": [
    {
     "name": "stdout",
     "output_type": "stream",
     "text": [
      "1\n",
      "[8, 5, 2, 9, 5, 6, 3]\n",
      "[5, 8, 2, 9, 5, 6, 3]\n",
      "[5, 2, 8, 9, 5, 6, 3]\n",
      "[5, 2, 8, 9, 5, 6, 3]\n",
      "[5, 2, 8, 5, 9, 6, 3]\n",
      "[5, 2, 8, 5, 6, 9, 3]\n",
      "[5, 2, 8, 5, 6, 3, 9]\n",
      "2\n",
      "[5, 2, 8, 5, 6, 3, 9]\n",
      "[2, 5, 8, 5, 6, 3, 9]\n",
      "[2, 5, 8, 5, 6, 3, 9]\n",
      "[2, 5, 5, 8, 6, 3, 9]\n",
      "[2, 5, 5, 6, 8, 3, 9]\n",
      "[2, 5, 5, 6, 3, 8, 9]\n",
      "[2, 5, 5, 6, 3, 8, 9]\n",
      "3\n",
      "[2, 5, 5, 6, 3, 8, 9]\n",
      "[2, 5, 5, 6, 3, 8, 9]\n",
      "[2, 5, 5, 6, 3, 8, 9]\n",
      "[2, 5, 5, 6, 3, 8, 9]\n",
      "[2, 5, 5, 3, 6, 8, 9]\n",
      "[2, 5, 5, 3, 6, 8, 9]\n",
      "[2, 5, 5, 3, 6, 8, 9]\n",
      "4\n",
      "[2, 5, 5, 3, 6, 8, 9]\n",
      "[2, 5, 5, 3, 6, 8, 9]\n",
      "[2, 5, 5, 3, 6, 8, 9]\n",
      "[2, 5, 3, 5, 6, 8, 9]\n",
      "[2, 5, 3, 5, 6, 8, 9]\n",
      "[2, 5, 3, 5, 6, 8, 9]\n",
      "[2, 5, 3, 5, 6, 8, 9]\n",
      "5\n",
      "[2, 5, 3, 5, 6, 8, 9]\n",
      "[2, 5, 3, 5, 6, 8, 9]\n",
      "[2, 3, 5, 5, 6, 8, 9]\n",
      "[2, 3, 5, 5, 6, 8, 9]\n",
      "[2, 3, 5, 5, 6, 8, 9]\n",
      "[2, 3, 5, 5, 6, 8, 9]\n",
      "[2, 3, 5, 5, 6, 8, 9]\n",
      "6\n",
      "[2, 3, 5, 5, 6, 8, 9]\n",
      "[2, 3, 5, 5, 6, 8, 9]\n",
      "[2, 3, 5, 5, 6, 8, 9]\n",
      "[2, 3, 5, 5, 6, 8, 9]\n",
      "[2, 3, 5, 5, 6, 8, 9]\n",
      "[2, 3, 5, 5, 6, 8, 9]\n",
      "[2, 3, 5, 5, 6, 8, 9]\n",
      "[2, 3, 5, 5, 6, 8, 9]\n"
     ]
    }
   ],
   "source": [
    "#dont need to return alist here because we aren't storing it anywhere outside of this function\n",
    "input = [8, 5, 2, 9, 5, 6, 3]\n",
    "\n",
    "def swap(alist, x, y):\n",
    "    alist[x], alist[y] = alist[y], alist[x]\n",
    "\n",
    "def bubbleSort(alist):\n",
    "    sorted = False\n",
    "\n",
    "    p = 0 # for visual purposes\n",
    "    while not sorted:\n",
    "        p+=1# for visual purposes\n",
    "        print(p)# for visual purposes\n",
    "        sorted = True\n",
    "        for i in range(len(alist)-1): \n",
    "            print(alist)# for visual purposes\n",
    "            if alist[i] > alist[i+1]:\n",
    "                swap(alist, i, i+1)\n",
    "                sorted = False\n",
    "        print(alist) # for visual purposes\n",
    "\n",
    "    return alist\n",
    "\n",
    "print(bubbleSort(input))"
   ]
  },
  {
   "cell_type": "markdown",
   "metadata": {},
   "source": [
    "##### Insertion Sort\n",
    "\n",
    "Worst Case: O(n^2) time - O(1)space"
   ]
  },
  {
   "cell_type": "code",
   "execution_count": 13,
   "metadata": {},
   "outputs": [
    {
     "name": "stdout",
     "output_type": "stream",
     "text": [
      "[2, 3, 5, 5, 6, 8, 9]\n"
     ]
    }
   ],
   "source": [
    "input =  [8, 5, 2, 9, 5, 6, 3]\n",
    "\n",
    "def swap(alist, x, y):\n",
    "    alist[x], alist[y] = alist[y], alist[x]\n",
    "\n",
    "def insertionSort(alist):\n",
    "\n",
    "    for i in range(1, len(alist)):\n",
    "        while i > 0 and alist[i] < alist[i-1]:\n",
    "            swap(alist, i, i-1)\n",
    "            i-=1 \n",
    "\n",
    "    return alist\n",
    "\n",
    "print(insertionSort(input)) "
   ]
  },
  {
   "cell_type": "markdown",
   "metadata": {},
   "source": [
    "## Merge Sort"
   ]
  },
  {
   "cell_type": "markdown",
   "metadata": {},
   "source": [
    "#### How it Works"
   ]
  },
  {
   "cell_type": "code",
   "execution_count": 15,
   "metadata": {},
   "outputs": [
    {
     "name": "stdout",
     "output_type": "stream",
     "text": [
      "[2, 3, 5, 5, 6, 8, 9]\n"
     ]
    }
   ],
   "source": [
    "input =  [8, 5, 2, 9, 5, 6, 3]\n",
    "\n",
    "def mergeSort(a_list):\n",
    "    if len(a_list) > 1:\n",
    "        middle = len(a_list)//2\n",
    "        left_half = a_list[:middle]\n",
    "        right_half = a_list[middle:]\n",
    "\n",
    "        mergeSort(left_half)\n",
    "        mergeSort(right_half)\n",
    "\n",
    "        #index point for our list\n",
    "        i = 0 #pointer for left half\n",
    "        j = 0 #pointer for right half\n",
    "        k = 0 #pointer for main list that we are mergin into\n",
    "\n",
    "        #compare the left and right until list is empty\n",
    "        while i < len(left_half) and j < len(right_half):\n",
    "            if left_half[i] < right_half[j]:\n",
    "                a_list[k] = left_half[i]\n",
    "                i += 1\n",
    "            else: \n",
    "                a_list[k] = right_half[j]\n",
    "                j += 1\n",
    "            k += 1\n",
    "\n",
    "        # fills in from the list hthat is not empty\n",
    "        while i < len(left_half):\n",
    "            a_list[k] = left_half[i]\n",
    "            i += 1\n",
    "            k += 1\n",
    "\n",
    "        while j < len(right_half):\n",
    "            a_list[k] = right_half[j]\n",
    "            j += 1\n",
    "            k += 1\n",
    "\n",
    "        return a_list\n",
    "\n",
    "print(mergeSort(input))"
   ]
  },
  {
   "cell_type": "markdown",
   "metadata": {},
   "source": [
    "# Binary Search\n",
    "\n",
    "The Binary Search algorithm works by finding the number in the middle of a given array and comparing it to the target. Given that the array is sorted\n",
    "\n",
    "* The worst case run time for this algorithm is `O(log(n))`"
   ]
  },
  {
   "cell_type": "code",
   "execution_count": 16,
   "metadata": {},
   "outputs": [
    {
     "data": {
      "text/plain": [
       "'Found 7 at the 2 index'"
      ]
     },
     "execution_count": 16,
     "metadata": {},
     "output_type": "execute_result"
    }
   ],
   "source": [
    "def binarySearch(a_list, target):\n",
    "    left = 0 \n",
    "    right = len(a_list)\n",
    "    while left <= right: \n",
    "        middle = (left + right) // 2\n",
    "        potential_match = a_list[middle]\n",
    "        if target == potential_match:\n",
    "            return f'Found {target} at the {middle} index'\n",
    "        elif target < potential_match:\n",
    "            right = middle -1 \n",
    "        else: \n",
    "            left = middle + 1 \n",
    "\n",
    "    return f'Target not in list'\n",
    "\n",
    "binarySearch([1,5,7,18,27,48,56,79,86,1003], 7)\n",
    "\n",
    "\n"
   ]
  },
  {
   "cell_type": "markdown",
   "metadata": {},
   "source": [
    "# Exercises"
   ]
  },
  {
   "cell_type": "markdown",
   "metadata": {},
   "source": [
    "### Exercise #1 <br>\n",
    "<p>Reverse the list below in-place using an in-place algorithm.<br>For extra credit: Reverse the strings at the same time.</p>"
   ]
  },
  {
   "cell_type": "code",
   "execution_count": 22,
   "metadata": {},
   "outputs": [
    {
     "name": "stdout",
     "output_type": "stream",
     "text": [
      "['.', 'sentence', 'a', 'is', 'this']\n"
     ]
    }
   ],
   "source": [
    "words = ['this' , 'is', 'a', 'sentence', '.']\n",
    "\n",
    "def reverse_list(alist):\n",
    "    for i in range(len(alist)//2):\n",
    "        alist[i], alist[len(alist) - 1 - i] = alist[len(alist) - 1 - i], alist[i]\n",
    "    return alist\n",
    "\n",
    "print(reverse_list(words))\n"
   ]
  },
  {
   "cell_type": "markdown",
   "metadata": {},
   "source": [
    "### Exercise #2 <br>\n",
    "<p>Create a function that counts how many distinct words are in the string below, then outputs a dictionary with the words as the key and the value as the amount of times that word appears in the string.<br>Should output:<br>{'a': 5,<br>\n",
    " 'abstract': 1,<br>\n",
    " 'an': 3,<br>\n",
    " 'array': 2, ... etc...</p>"
   ]
  },
  {
   "cell_type": "code",
   "execution_count": 32,
   "metadata": {},
   "outputs": [
    {
     "name": "stdout",
     "output_type": "stream",
     "text": [
      "{' a hash table hash map is a data structure which implements an associative array abstract data type': 1, ' a structure that can map keys to values. a hash table uses a hash function to compute an index into an array of buckets or slots from which the desired value can be found': 1, 'in computing': 1}\n"
     ]
    }
   ],
   "source": [
    "a_text = 'In computing, a hash table hash map is a data structure which implements an associative array abstract data type, a structure that can map keys to values. A hash table uses a hash function to compute an index into an array of buckets or slots from which the desired value can be found'\n",
    "\n",
    "def count_words(a_string):\n",
    "    my_dict = {}\n",
    "    lower = a_string.lower()\n",
    "    new_string = lower.split(' ')\n",
    "    \n",
    "    for word in new_string:\n",
    "        counter = 1\n",
    "        if word not in my_dict.keys():\n",
    "            my_dict[word] = counter\n",
    "        else:\n",
    "            my_dict[word] += 1\n",
    "\n",
    "    # Sort dictionary by its keys\n",
    "    keys = list(my_dict.keys())\n",
    "    keys.sort()\n",
    "    sorted_dict = {i: my_dict[i] for i in keys}\n",
    "\n",
    "    return sorted_dict\n",
    "\n",
    "print(count_words(a_text))\n"
   ]
  },
  {
   "cell_type": "markdown",
   "metadata": {},
   "source": [
    "## Exercise #3\n",
    "\n",
    "Write a program to implement a Linear Search Algorithm. Also in a comment, write the Time Complexity of the following algorithm.\n",
    "\n",
    "#### Hint: Linear Searching will require searching a list for a given number. "
   ]
  },
  {
   "cell_type": "code",
   "execution_count": 3,
   "metadata": {},
   "outputs": [
    {
     "data": {
      "text/plain": [
       "4"
      ]
     },
     "execution_count": 3,
     "metadata": {},
     "output_type": "execute_result"
    }
   ],
   "source": [
    "# convert binary search to linear search\n",
    "\n",
    "def linearSearch(a_list, target):\n",
    "    \n",
    "    for i in range(len(a_list)):\n",
    "        if a_list[i] == target:\n",
    "            return i\n",
    "\n",
    "\n",
    "linearSearch([1,5,7,18,27,48,56,79,86,1003], 27)"
   ]
  }
 ],
 "metadata": {
  "kernelspec": {
   "display_name": "Python 3",
   "language": "python",
   "name": "python3"
  },
  "language_info": {
   "codemirror_mode": {
    "name": "ipython",
    "version": 3
   },
   "file_extension": ".py",
   "mimetype": "text/x-python",
   "name": "python",
   "nbconvert_exporter": "python",
   "pygments_lexer": "ipython3",
   "version": "3.11.3"
  }
 },
 "nbformat": 4,
 "nbformat_minor": 2
}
